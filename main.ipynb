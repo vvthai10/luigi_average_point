{
 "cells": [
  {
   "cell_type": "code",
   "execution_count": 6,
   "id": "bb2bd4d4-3cf5-4a3c-b5ec-f5e460544bad",
   "metadata": {},
   "outputs": [
    {
     "name": "stdout",
     "output_type": "stream",
     "text": [
      "Scheduler started...\n",
      "2024-11-11 09:59:34.235525 | worker started\n",
      "File: lop_10a1.csv. Task to average points\n",
      "DEBUG: Checking if CalculateAveragePoint(input_file=/home/lap14088/Documents/workspaces/luigi/luigi_average_point/submits/lop_10a1.csv) is complete\n",
      "INFO: Informed scheduler that task   CalculateAveragePoint__home_lap14088_D_eeb0dcadb2   has status   DONE\n",
      "INFO: Done scheduling tasks\n",
      "INFO: Running Worker with 1 processes\n",
      "DEBUG: Asking scheduler for work...\n",
      "DEBUG: Done\n",
      "DEBUG: There are no more tasks to run at this time\n",
      "INFO: Worker Worker(salt=5083907214, workers=1, host=LAP14088, username=lap14088, pid=11546) was stopped. Shutting down Keep-Alive thread\n",
      "INFO: \n",
      "===== Luigi Execution Summary =====\n",
      "\n",
      "Scheduled 1 tasks of which:\n",
      "* 1 complete ones were encountered:\n",
      "    - 1 CalculateAveragePoint(input_file=/home/lap14088/Documents/workspaces/luigi/luigi_average_point/submits/lop_10a1.csv)\n",
      "\n",
      "Did not run any tasks\n",
      "This progress looks :) because there were no failed tasks or missing dependencies\n",
      "\n",
      "===== Luigi Execution Summary =====\n",
      "\n",
      "2024-11-11 09:59:44.235199 | worker started\n",
      "^C\n",
      "Traceback (most recent call last):\n",
      "  File \"/home/lap14088/Documents/workspaces/luigi/luigi_average_point/crontab.py\", line 23, in <module>\n",
      "    sched.start()\n",
      "  File \"/home/lap14088/miniconda3/envs/luigi/lib/python3.9/site-packages/apscheduler/schedulers/blocking.py\", line 21, in start\n",
      "    self._main_loop()\n",
      "  File \"/home/lap14088/miniconda3/envs/luigi/lib/python3.9/site-packages/apscheduler/schedulers/blocking.py\", line 30, in _main_loop\n",
      "    self._event.wait(wait_seconds)\n",
      "  File \"/home/lap14088/miniconda3/envs/luigi/lib/python3.9/threading.py\", line 581, in wait\n",
      "    signaled = self._cond.wait(timeout)\n",
      "  File \"/home/lap14088/miniconda3/envs/luigi/lib/python3.9/threading.py\", line 316, in wait\n",
      "    gotit = waiter.acquire(True, timeout)\n",
      "KeyboardInterrupt\n"
     ]
    }
   ],
   "source": [
    "!python crontab.py"
   ]
  },
  {
   "cell_type": "code",
   "execution_count": null,
   "id": "4bf9ff0d-c7ba-4ef5-aac3-50aa21a1ab09",
   "metadata": {},
   "outputs": [],
   "source": []
  }
 ],
 "metadata": {
  "kernelspec": {
   "display_name": "Python 3 (ipykernel)",
   "language": "python",
   "name": "python3"
  },
  "language_info": {
   "codemirror_mode": {
    "name": "ipython",
    "version": 3
   },
   "file_extension": ".py",
   "mimetype": "text/x-python",
   "name": "python",
   "nbconvert_exporter": "python",
   "pygments_lexer": "ipython3",
   "version": "3.9.20"
  }
 },
 "nbformat": 4,
 "nbformat_minor": 5
}
